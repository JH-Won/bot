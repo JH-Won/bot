{
 "cells": [
  {
   "cell_type": "code",
   "execution_count": 1,
   "metadata": {},
   "outputs": [],
   "source": [
    "import sys\n",
    "import os\n",
    "import pandas as pd\n",
    "import numpy as np\n",
    "\n",
    "sys.path.append('E:/bot')"
   ]
  },
  {
   "cell_type": "code",
   "execution_count": 2,
   "metadata": {},
   "outputs": [],
   "source": [
    "os.environ['APP_KEY'] = r\"\"\n",
    "os.environ['APP_SECRET'] = r\"\"\n",
    "\n",
    "ticker = '005930'\n",
    "htsid = ''\n",
    "custtype = 'P'\n",
    "\n",
    "url = 'ws://ops.koreainvestment.com:21000'"
   ]
  },
  {
   "cell_type": "code",
   "execution_count": 3,
   "metadata": {},
   "outputs": [],
   "source": [
    "from websocket.ws_io_utils import *\n",
    "from websocket.ws_connection import get_approval"
   ]
  },
  {
   "cell_type": "code",
   "execution_count": 4,
   "metadata": {},
   "outputs": [],
   "source": [
    "approval_key = get_approval(os.environ['APP_KEY'], os.environ['APP_SECRET'])"
   ]
  },
  {
   "cell_type": "code",
   "execution_count": 5,
   "metadata": {},
   "outputs": [
    {
     "data": {
      "text/plain": [
       "'5cd1b6ca-bff9-4b0c-87ab-f1efdeb658e1'"
      ]
     },
     "execution_count": 5,
     "metadata": {},
     "output_type": "execute_result"
    }
   ],
   "source": [
    "approval_key"
   ]
  },
  {
   "cell_type": "code",
   "execution_count": 6,
   "metadata": {},
   "outputs": [],
   "source": [
    "import websockets"
   ]
  },
  {
   "cell_type": "code",
   "execution_count": 9,
   "metadata": {},
   "outputs": [
    {
     "name": "stdout",
     "output_type": "stream",
     "text": [
      "{\n",
      "                \"header\": { \n",
      "                    \"approval_key\": \"5cd1b6ca-bff9-4b0c-87ab-f1efdeb658e1\",\n",
      "                    \"custtype\": \"P\",\n",
      "                    \"tr_type\": \"1\",\n",
      "                    \"content-type\": \"utf-8\"\n",
      "                },\n",
      "                \"body\": {\n",
      "                    \"input\": {\n",
      "                        \"tr_id\": \"H0STCNT0\",\n",
      "                        \"tr_key\": \"005930\"\n",
      "                    }\n",
      "                }\n",
      "            }\n"
     ]
    }
   ],
   "source": [
    "tr_id = 'H0STCNT0'\n",
    "tr_key = ticker\n",
    "tr_type = '1'\n",
    "\n",
    "send_data = f'''{{\n",
    "                \"header\": {{ \n",
    "                    \"approval_key\": \"{approval_key}\",\n",
    "                    \"custtype\": \"P\",\n",
    "                    \"tr_type\": \"{tr_type}\",\n",
    "                    \"content-type\": \"utf-8\"\n",
    "                }},\n",
    "                \"body\": {{\n",
    "                    \"input\": {{\n",
    "                        \"tr_id\": \"{tr_id}\",\n",
    "                        \"tr_key\": \"{tr_key}\"\n",
    "                    }}\n",
    "                }}\n",
    "            }}'''\n",
    "\n",
    "print(send_data)"
   ]
  },
  {
   "cell_type": "code",
   "execution_count": 30,
   "metadata": {},
   "outputs": [
    {
     "ename": "CancelledError",
     "evalue": "",
     "output_type": "error",
     "traceback": [
      "\u001b[1;31m---------------------------------------------------------------------------\u001b[0m",
      "\u001b[1;31mCancelledError\u001b[0m                            Traceback (most recent call last)",
      "Cell \u001b[1;32mIn[30], line 20\u001b[0m\n\u001b[0;32m     17\u001b[0m \u001b[38;5;28;01mwith\u001b[39;00m \u001b[38;5;28mopen\u001b[39m(file_name, \u001b[38;5;124m'\u001b[39m\u001b[38;5;124mw\u001b[39m\u001b[38;5;124m'\u001b[39m) \u001b[38;5;28;01mas\u001b[39;00m f:\n\u001b[0;32m     18\u001b[0m     f\u001b[38;5;241m.\u001b[39mwrite(recv_data) \u001b[38;5;66;03m# with some processing\u001b[39;00m\n\u001b[1;32m---> 20\u001b[0m \u001b[38;5;28;01mawait\u001b[39;00m asyncio\u001b[38;5;241m.\u001b[39msleep(\u001b[38;5;241m0.5\u001b[39m) \u001b[38;5;66;03m# 500ms\u001b[39;00m\n",
      "File \u001b[1;32mc:\\Users\\WonJongHyun\\AppData\\Local\\Programs\\Python\\Python312\\Lib\\asyncio\\tasks.py:665\u001b[0m, in \u001b[0;36msleep\u001b[1;34m(delay, result)\u001b[0m\n\u001b[0;32m    661\u001b[0m h \u001b[38;5;241m=\u001b[39m loop\u001b[38;5;241m.\u001b[39mcall_later(delay,\n\u001b[0;32m    662\u001b[0m                     futures\u001b[38;5;241m.\u001b[39m_set_result_unless_cancelled,\n\u001b[0;32m    663\u001b[0m                     future, result)\n\u001b[0;32m    664\u001b[0m \u001b[38;5;28;01mtry\u001b[39;00m:\n\u001b[1;32m--> 665\u001b[0m     \u001b[38;5;28;01mreturn\u001b[39;00m \u001b[38;5;28;01mawait\u001b[39;00m future\n\u001b[0;32m    666\u001b[0m \u001b[38;5;28;01mfinally\u001b[39;00m:\n\u001b[0;32m    667\u001b[0m     h\u001b[38;5;241m.\u001b[39mcancel()\n",
      "\u001b[1;31mCancelledError\u001b[0m: "
     ]
    }
   ],
   "source": [
    "import asyncio\n",
    "from datetime import datetime\n",
    "\n",
    "def get_current_time():\n",
    "    return datetime.now().strftime(\"%Y%m%d_%H_%M_%S\")\n",
    "\n",
    "async with websockets.connect(url, ping_interval=60) as ws:\n",
    "    \n",
    "    while True: # this should be changed to some time interval \n",
    "\n",
    "        await ws.send(send_data)\n",
    "        recv_data = await ws.recv()\n",
    "\n",
    "        # TODO: Asynchronous IO / Use another thread to take the work\n",
    "        file_name = f\"./logs/{get_current_time()}_{ticker}_test.txt\"\n",
    "\n",
    "        with open(file_name, 'w') as f:\n",
    "            f.write(recv_data) # with some processing\n",
    "\n",
    "        await asyncio.sleep(0.5) # 500ms"
   ]
  },
  {
   "cell_type": "code",
   "execution_count": 24,
   "metadata": {},
   "outputs": [],
   "source": []
  }
 ],
 "metadata": {
  "kernelspec": {
   "display_name": "Python 3",
   "language": "python",
   "name": "python3"
  },
  "language_info": {
   "codemirror_mode": {
    "name": "ipython",
    "version": 3
   },
   "file_extension": ".py",
   "mimetype": "text/x-python",
   "name": "python",
   "nbconvert_exporter": "python",
   "pygments_lexer": "ipython3",
   "version": "3.12.3"
  }
 },
 "nbformat": 4,
 "nbformat_minor": 2
}
