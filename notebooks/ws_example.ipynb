{
 "cells": [
  {
   "cell_type": "code",
   "execution_count": 1,
   "metadata": {},
   "outputs": [
    {
     "name": "stderr",
     "output_type": "stream",
     "text": [
      "<>:5: SyntaxWarning: invalid escape sequence '\\p'\n",
      "<>:5: SyntaxWarning: invalid escape sequence '\\p'\n",
      "C:\\Users\\Administrator\\AppData\\Local\\Temp\\ipykernel_23220\\697129216.py:5: SyntaxWarning: invalid escape sequence '\\p'\n",
      "  sys.path.append('D:\\python-api')\n"
     ]
    }
   ],
   "source": [
    "import sys\n",
    "import os\n",
    "import json\n",
    "\n",
    "sys.path.append('D:\\python-api')"
   ]
  },
  {
   "cell_type": "code",
   "execution_count": 2,
   "metadata": {},
   "outputs": [],
   "source": [
    "os.environ['APP_KEY'] = r\"\"\n",
    "os.environ['APP_SECRET'] = r\"\"\n",
    "\n",
    "ticker = '418470'"
   ]
  },
  {
   "cell_type": "code",
   "execution_count": 3,
   "metadata": {},
   "outputs": [],
   "source": [
    "from websocket.ws_io_utils import *\n",
    "from websocket.ws_connection import get_approval\n",
    "import websockets"
   ]
  },
  {
   "cell_type": "code",
   "execution_count": 4,
   "metadata": {},
   "outputs": [],
   "source": [
    "import asyncio\n",
    "from datetime import datetime\n",
    "\n",
    "def get_current_time():\n",
    "    return datetime.now().strftime(\"%Y%m%d_%H_%M_%S\")\n",
    "\n",
    "\n",
    "tr_id = 'H0STCNT0'\n",
    "tr_key = ticker\n",
    "tr_type = '1'\n",
    "\n",
    "url = 'ws://ops.koreainvestment.com:21000'\n",
    "\n",
    "approval_key = get_approval(os.environ['APP_KEY'], os.environ['APP_SECRET'])\n",
    "\n",
    "send_data = f'''{{\n",
    "                \"header\": {{ \n",
    "                    \"approval_key\": \"{approval_key}\",\n",
    "                    \"custtype\": \"P\",\n",
    "                    \"tr_type\": \"{tr_type}\",\n",
    "                    \"content-type\": \"utf-8\"\n",
    "                }},\n",
    "                \"body\": {{\n",
    "                    \"input\": {{\n",
    "                        \"tr_id\": \"{tr_id}\",\n",
    "                        \"tr_key\": \"{tr_key}\"\n",
    "                    }}\n",
    "                }}\n",
    "            }}'''"
   ]
  },
  {
   "cell_type": "code",
   "execution_count": 6,
   "metadata": {},
   "outputs": [
    {
     "name": "stdout",
     "output_type": "stream",
     "text": [
      "sent 1011 (internal error) keepalive ping timeout; no close frame received\n",
      "sent 1011 (internal error) keepalive ping timeout; no close frame received\n",
      "sent 1011 (internal error) keepalive ping timeout; no close frame received\n",
      "sent 1011 (internal error) keepalive ping timeout; no close frame received\n",
      "sent 1011 (internal error) keepalive ping timeout; no close frame received\n",
      "sent 1011 (internal error) keepalive ping timeout; no close frame received\n",
      "sent 1011 (internal error) keepalive ping timeout; no close frame received\n",
      "sent 1011 (internal error) keepalive ping timeout; no close frame received\n",
      "sent 1011 (internal error) keepalive ping timeout; no close frame received\n",
      "sent 1011 (internal error) keepalive ping timeout; no close frame received\n",
      "sent 1011 (internal error) keepalive ping timeout; no close frame received\n",
      "sent 1011 (internal error) keepalive ping timeout; no close frame received\n",
      "sent 1011 (internal error) keepalive ping timeout; no close frame received\n",
      "sent 1011 (internal error) keepalive ping timeout; no close frame received\n",
      "sent 1011 (internal error) keepalive ping timeout; no close frame received\n",
      "sent 1011 (internal error) keepalive ping timeout; no close frame received\n",
      "sent 1011 (internal error) keepalive ping timeout; no close frame received\n",
      "sent 1011 (internal error) keepalive ping timeout; no close frame received\n",
      "sent 1011 (internal error) keepalive ping timeout; no close frame received\n",
      "sent 1011 (internal error) keepalive ping timeout; no close frame received\n",
      "sent 1011 (internal error) keepalive ping timeout; no close frame received\n",
      "sent 1011 (internal error) keepalive ping timeout; no close frame received\n",
      "sent 1011 (internal error) keepalive ping timeout; no close frame received\n",
      "sent 1011 (internal error) keepalive ping timeout; no close frame received\n",
      "sent 1011 (internal error) keepalive ping timeout; no close frame received\n",
      "sent 1011 (internal error) keepalive ping timeout; no close frame received\n",
      "sent 1011 (internal error) keepalive ping timeout; no close frame received\n",
      "sent 1011 (internal error) keepalive ping timeout; no close frame received\n",
      "sent 1011 (internal error) keepalive ping timeout; no close frame received\n",
      "sent 1011 (internal error) keepalive ping timeout; no close frame received\n",
      "sent 1011 (internal error) keepalive ping timeout; no close frame received\n",
      "sent 1011 (internal error) keepalive ping timeout; no close frame received\n",
      "sent 1011 (internal error) keepalive ping timeout; no close frame received\n",
      "sent 1011 (internal error) keepalive ping timeout; no close frame received\n",
      "sent 1011 (internal error) keepalive ping timeout; no close frame received\n",
      "sent 1011 (internal error) keepalive ping timeout; no close frame received\n",
      "sent 1011 (internal error) keepalive ping timeout; no close frame received\n",
      "sent 1011 (internal error) keepalive ping timeout; no close frame received\n",
      "sent 1011 (internal error) keepalive ping timeout; no close frame received\n",
      "sent 1011 (internal error) keepalive ping timeout; no close frame received\n",
      "sent 1011 (internal error) keepalive ping timeout; no close frame received\n",
      "sent 1011 (internal error) keepalive ping timeout; no close frame received\n",
      "sent 1011 (internal error) keepalive ping timeout; no close frame received\n",
      "sent 1011 (internal error) keepalive ping timeout; no close frame received\n",
      "sent 1011 (internal error) keepalive ping timeout; no close frame received\n",
      "sent 1011 (internal error) keepalive ping timeout; no close frame received\n",
      "sent 1011 (internal error) keepalive ping timeout; no close frame received\n",
      "sent 1011 (internal error) keepalive ping timeout; no close frame received\n",
      "sent 1011 (internal error) keepalive ping timeout; no close frame received\n",
      "sent 1011 (internal error) keepalive ping timeout; no close frame received\n",
      "sent 1011 (internal error) keepalive ping timeout; no close frame received\n",
      "sent 1011 (internal error) keepalive ping timeout; no close frame received\n",
      "sent 1011 (internal error) keepalive ping timeout; no close frame received\n",
      "sent 1011 (internal error) keepalive ping timeout; no close frame received\n",
      "sent 1011 (internal error) keepalive ping timeout; no close frame received\n",
      "sent 1011 (internal error) keepalive ping timeout; no close frame received\n",
      "no close frame received or sent\n",
      "sent 1011 (internal error) keepalive ping timeout; no close frame received\n",
      "sent 1011 (internal error) keepalive ping timeout; no close frame received\n",
      "sent 1011 (internal error) keepalive ping timeout; no close frame received\n",
      "sent 1011 (internal error) keepalive ping timeout; no close frame received\n",
      "sent 1011 (internal error) keepalive ping timeout; no close frame received\n",
      "sent 1011 (internal error) keepalive ping timeout; no close frame received\n",
      "sent 1011 (internal error) keepalive ping timeout; no close frame received\n",
      "sent 1011 (internal error) keepalive ping timeout; no close frame received\n",
      "sent 1011 (internal error) keepalive ping timeout; no close frame received\n",
      "sent 1011 (internal error) keepalive ping timeout; no close frame received\n",
      "sent 1011 (internal error) keepalive ping timeout; no close frame received\n",
      "sent 1011 (internal error) keepalive ping timeout; no close frame received\n",
      "sent 1011 (internal error) keepalive ping timeout; no close frame received\n",
      "sent 1011 (internal error) keepalive ping timeout; no close frame received\n",
      "sent 1011 (internal error) keepalive ping timeout; no close frame received\n",
      "sent 1011 (internal error) keepalive ping timeout; no close frame received\n",
      "sent 1011 (internal error) keepalive ping timeout; no close frame received\n",
      "sent 1011 (internal error) keepalive ping timeout; no close frame received\n",
      "sent 1011 (internal error) keepalive ping timeout; no close frame received\n"
     ]
    },
    {
     "ename": "CancelledError",
     "evalue": "",
     "output_type": "error",
     "traceback": [
      "\u001b[1;31m---------------------------------------------------------------------------\u001b[0m",
      "\u001b[1;31mCancelledError\u001b[0m                            Traceback (most recent call last)",
      "Cell \u001b[1;32mIn[6], line 27\u001b[0m\n\u001b[0;32m     25\u001b[0m                     \u001b[38;5;28;01mawait\u001b[39;00m ws\u001b[38;5;241m.\u001b[39mpong(recv_data)\n\u001b[0;32m     26\u001b[0m                 \u001b[38;5;28;01melse\u001b[39;00m:\n\u001b[1;32m---> 27\u001b[0m                     \u001b[38;5;28;01mawait\u001b[39;00m asyncio\u001b[38;5;241m.\u001b[39msleep(\u001b[38;5;241m0.2\u001b[39m)\n\u001b[0;32m     28\u001b[0m \u001b[38;5;28;01mexcept\u001b[39;00m \u001b[38;5;167;01mException\u001b[39;00m \u001b[38;5;28;01mas\u001b[39;00m e:\n\u001b[0;32m     29\u001b[0m     \u001b[38;5;28mprint\u001b[39m(\u001b[38;5;28mstr\u001b[39m(e))\n",
      "File \u001b[1;32mc:\\Users\\Administrator\\AppData\\Local\\Programs\\Python\\Python313\\Lib\\asyncio\\tasks.py:718\u001b[0m, in \u001b[0;36msleep\u001b[1;34m(delay, result)\u001b[0m\n\u001b[0;32m    714\u001b[0m h \u001b[38;5;241m=\u001b[39m loop\u001b[38;5;241m.\u001b[39mcall_later(delay,\n\u001b[0;32m    715\u001b[0m                     futures\u001b[38;5;241m.\u001b[39m_set_result_unless_cancelled,\n\u001b[0;32m    716\u001b[0m                     future, result)\n\u001b[0;32m    717\u001b[0m \u001b[38;5;28;01mtry\u001b[39;00m:\n\u001b[1;32m--> 718\u001b[0m     \u001b[38;5;28;01mreturn\u001b[39;00m \u001b[38;5;28;01mawait\u001b[39;00m future\n\u001b[0;32m    719\u001b[0m \u001b[38;5;28;01mfinally\u001b[39;00m:\n\u001b[0;32m    720\u001b[0m     h\u001b[38;5;241m.\u001b[39mcancel()\n",
      "\u001b[1;31mCancelledError\u001b[0m: "
     ]
    }
   ],
   "source": [
    "while True:\n",
    "    try:\n",
    "        async with websockets.connect(url, ping_interval=60) as ws:\n",
    "            \n",
    "            while True: # this should be changed to some time interval \n",
    "                \n",
    "                await ws.send(send_data)\n",
    "                recv_data = await ws.recv()\n",
    "\n",
    "                if recv_data[0] == '0' or recv_data[1] == '1':\n",
    "                    recvstr = recv_data.split('|')\n",
    "                    data_cnt = int(recvstr[2])\n",
    "                    ret = print_purchased(data_cnt, recvstr[3])\n",
    "                    # TODO: Asynchronous IO / Use another thread to take the work\n",
    "                    file_name = f\"./test_output/{get_current_time()}_{ticker}_test.txt\"\n",
    "\n",
    "                    with open(file_name, 'w', encoding='UTF-8') as f:\n",
    "                        f.write(ret) # with some processing\n",
    "                    await asyncio.sleep(0.2)\n",
    "                else: # JSON / PINGPONG\n",
    "                    json_data = json.loads(recv_data)\n",
    "                    tr_id = json_data['header']['tr_id']\n",
    "\n",
    "                    if tr_id == 'PINGPONG':\n",
    "                        await ws.pong(recv_data)\n",
    "                    else:\n",
    "                        await asyncio.sleep(0.2)\n",
    "    except Exception as e:\n",
    "        print(str(e))"
   ]
  },
  {
   "cell_type": "code",
   "execution_count": null,
   "metadata": {},
   "outputs": [],
   "source": []
  }
 ],
 "metadata": {
  "kernelspec": {
   "display_name": "Python 3",
   "language": "python",
   "name": "python3"
  },
  "language_info": {
   "codemirror_mode": {
    "name": "ipython",
    "version": 3
   },
   "file_extension": ".py",
   "mimetype": "text/x-python",
   "name": "python",
   "nbconvert_exporter": "python",
   "pygments_lexer": "ipython3",
   "version": "3.13.0"
  }
 },
 "nbformat": 4,
 "nbformat_minor": 2
}
