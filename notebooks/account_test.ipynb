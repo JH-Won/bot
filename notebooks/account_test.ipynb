{
 "cells": [
  {
   "cell_type": "code",
   "execution_count": 1,
   "metadata": {},
   "outputs": [],
   "source": [
    "import sys\n",
    "import os\n",
    "import pandas as pd\n",
    "import numpy as np\n",
    "import json\n",
    "\n",
    "sys.path.append('D:/bot')"
   ]
  },
  {
   "cell_type": "code",
   "execution_count": 2,
   "metadata": {},
   "outputs": [],
   "source": [
    "from account import Account"
   ]
  },
  {
   "cell_type": "code",
   "execution_count": 3,
   "metadata": {},
   "outputs": [],
   "source": [
    "domestic = Account(\n",
    "    cano=\"81263805\",\n",
    "    is_foreign = False\n",
    ")"
   ]
  },
  {
   "cell_type": "code",
   "execution_count": 4,
   "metadata": {},
   "outputs": [
    {
     "name": "stderr",
     "output_type": "stream",
     "text": [
      "[INFO|account.py:46] 2024-12-31 14:37:05,228 > payload : {'CANO': '81263805', 'SORT_DVSN': '01', 'ACNT_PRDT_CD': '01', 'PDNO': '', 'INQR_STRT_DT': '20240101', 'INQR_END_DT': '20241231', 'CBLC_DVSN': '00', 'CTX_AREA_NK100': '', 'CTX_AREA_FK100': ''}\n"
     ]
    }
   ],
   "source": [
    "result = domestic.get_trading_report(\n",
    "    start_date=\"20240101\",\n",
    "    end_date=\"20241231\",\n",
    "    currency=\"krw\"\n",
    ")"
   ]
  },
  {
   "cell_type": "code",
   "execution_count": 5,
   "metadata": {},
   "outputs": [],
   "source": [
    "df = pd.DataFrame(result['output1'])"
   ]
  },
  {
   "cell_type": "code",
   "execution_count": null,
   "metadata": {},
   "outputs": [],
   "source": []
  }
 ],
 "metadata": {
  "kernelspec": {
   "display_name": "Python 3",
   "language": "python",
   "name": "python3"
  },
  "language_info": {
   "codemirror_mode": {
    "name": "ipython",
    "version": 3
   },
   "file_extension": ".py",
   "mimetype": "text/x-python",
   "name": "python",
   "nbconvert_exporter": "python",
   "pygments_lexer": "ipython3",
   "version": "3.13.0"
  }
 },
 "nbformat": 4,
 "nbformat_minor": 2
}
