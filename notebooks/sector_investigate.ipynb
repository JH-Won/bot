{
 "cells": [
  {
   "cell_type": "code",
   "execution_count": 1,
   "metadata": {},
   "outputs": [],
   "source": [
    "tickers = {\n",
    "\n",
    "# utilities \n",
    "'utilites' : ['XLU', 'VPU', 'IGF'],\n",
    "\n",
    "# materials\n",
    "'materials' : ['XLB', 'VAW', 'RING'],\n",
    "\n",
    "# oils / energies\n",
    "'energies' : ['USO', 'XLE', 'IXC'],\n",
    "\n",
    "# tech (HW/SW both)\n",
    "'tech' : ['SOXX', 'VGT', 'IYW'],\n",
    "\n",
    "# bio\n",
    "'bio' : ['IBB', 'ARKG'],\n",
    "\n",
    "# retail (consumer-staples)\n",
    "'retail' : ['XRT', 'IBUY', 'EBIZ'],\n",
    "\n",
    "# consumer-luxuries\n",
    "'luxury' : ['LUXX'],\n",
    "\n",
    "# finance\n",
    "'finance' : ['XLF', 'KRE', 'KIE'],\n",
    "\n",
    "# industrials\n",
    "'industrials' : ['XLI', 'ITA', 'EXI'],\n",
    "\n",
    "# housing markets\n",
    "'housing' : ['VNQ', 'DFGR'],\n",
    "\n",
    "# emerging markets\n",
    "'emerging' : ['INDA', 'EWZ', 'IEMG']\n",
    "\n",
    "# treasury bonds 3m, 1y, 20y\n",
    "\n",
    "# Federal rates \n",
    "}"
   ]
  },
  {
   "cell_type": "code",
   "execution_count": 2,
   "metadata": {},
   "outputs": [],
   "source": [
    "import sys\n",
    "import os\n",
    "import pandas as pd"
   ]
  },
  {
   "cell_type": "code",
   "execution_count": 4,
   "metadata": {},
   "outputs": [],
   "source": [
    "sys.path.append('D:/python-api')"
   ]
  },
  {
   "cell_type": "code",
   "execution_count": 5,
   "metadata": {},
   "outputs": [],
   "source": [
    "from market_search import ForeignMarketEngine, ExchangerCode, DateScale"
   ]
  },
  {
   "cell_type": "code",
   "execution_count": 6,
   "metadata": {},
   "outputs": [],
   "source": [
    "os.environ[\"APP_KEY\"] = r\"\"\n",
    "os.environ[\"APP_SECRET\"] = r\"\"\n",
    "\n",
    "searcher = ForeignMarketEngine()"
   ]
  },
  {
   "cell_type": "code",
   "execution_count": 7,
   "metadata": {},
   "outputs": [
    {
     "name": "stdout",
     "output_type": "stream",
     "text": [
      "\n",
      "    # 거래소 코드 \n",
      "    # HKS : 홍콩\n",
      "    # NYS : 뉴욕\n",
      "    # NAS : 나스닥\n",
      "    # AMS : 아멕스\n",
      "    # TSE : 도쿄\n",
      "    # SHS : 상해\n",
      "    # SZS : 심천\n",
      "    # SHI : 상해지수\n",
      "    # SZI : 심천지수\n",
      "    # HSX : 호치민\n",
      "    # HNX : 하노이\n",
      "    # BAY : 뉴욕(주간)\n",
      "    # BAQ : 나스닥(주간)\n",
      "    # BAA : 아멕스(주간)\n",
      "    \n"
     ]
    }
   ],
   "source": [
    "ExchangerCode.view_code()"
   ]
  },
  {
   "cell_type": "code",
   "execution_count": 8,
   "metadata": {},
   "outputs": [
    {
     "ename": "ConnectionError",
     "evalue": "HTTPSConnectionPool(host='openapi.koreainvestment.com', port=9443): Max retries exceeded with url: /uapi/overseas-price/v1/quotations/dailyprice?AUTH=&EXCD=NAS&SYMB=XLU&GUBN=0&BYMD=20120101&MODP=0 (Caused by NewConnectionError('<urllib3.connection.HTTPSConnection object at 0x00000157FFABB990>: Failed to establish a new connection: [WinError 10065] 연결할 수 없는 호스트로 소켓 작업을 시도했습니다'))",
     "output_type": "error",
     "traceback": [
      "\u001b[1;31m---------------------------------------------------------------------------\u001b[0m",
      "\u001b[1;31mOSError\u001b[0m                                   Traceback (most recent call last)",
      "File \u001b[1;32mc:\\Users\\Administrator\\AppData\\Local\\anaconda3\\Lib\\site-packages\\urllib3\\connection.py:174\u001b[0m, in \u001b[0;36mHTTPConnection._new_conn\u001b[1;34m(self)\u001b[0m\n\u001b[0;32m    173\u001b[0m \u001b[38;5;28;01mtry\u001b[39;00m:\n\u001b[1;32m--> 174\u001b[0m     conn \u001b[38;5;241m=\u001b[39m connection\u001b[38;5;241m.\u001b[39mcreate_connection(\n\u001b[0;32m    175\u001b[0m         (\u001b[38;5;28mself\u001b[39m\u001b[38;5;241m.\u001b[39m_dns_host, \u001b[38;5;28mself\u001b[39m\u001b[38;5;241m.\u001b[39mport), \u001b[38;5;28mself\u001b[39m\u001b[38;5;241m.\u001b[39mtimeout, \u001b[38;5;241m*\u001b[39m\u001b[38;5;241m*\u001b[39mextra_kw\n\u001b[0;32m    176\u001b[0m     )\n\u001b[0;32m    178\u001b[0m \u001b[38;5;28;01mexcept\u001b[39;00m SocketTimeout:\n",
      "File \u001b[1;32mc:\\Users\\Administrator\\AppData\\Local\\anaconda3\\Lib\\site-packages\\urllib3\\util\\connection.py:95\u001b[0m, in \u001b[0;36mcreate_connection\u001b[1;34m(address, timeout, source_address, socket_options)\u001b[0m\n\u001b[0;32m     94\u001b[0m \u001b[38;5;28;01mif\u001b[39;00m err \u001b[38;5;129;01mis\u001b[39;00m \u001b[38;5;129;01mnot\u001b[39;00m \u001b[38;5;28;01mNone\u001b[39;00m:\n\u001b[1;32m---> 95\u001b[0m     \u001b[38;5;28;01mraise\u001b[39;00m err\n\u001b[0;32m     97\u001b[0m \u001b[38;5;28;01mraise\u001b[39;00m socket\u001b[38;5;241m.\u001b[39merror(\u001b[38;5;124m\"\u001b[39m\u001b[38;5;124mgetaddrinfo returns an empty list\u001b[39m\u001b[38;5;124m\"\u001b[39m)\n",
      "File \u001b[1;32mc:\\Users\\Administrator\\AppData\\Local\\anaconda3\\Lib\\site-packages\\urllib3\\util\\connection.py:85\u001b[0m, in \u001b[0;36mcreate_connection\u001b[1;34m(address, timeout, source_address, socket_options)\u001b[0m\n\u001b[0;32m     84\u001b[0m     sock\u001b[38;5;241m.\u001b[39mbind(source_address)\n\u001b[1;32m---> 85\u001b[0m sock\u001b[38;5;241m.\u001b[39mconnect(sa)\n\u001b[0;32m     86\u001b[0m \u001b[38;5;28;01mreturn\u001b[39;00m sock\n",
      "\u001b[1;31mOSError\u001b[0m: [WinError 10065] 연결할 수 없는 호스트로 소켓 작업을 시도했습니다",
      "\nDuring handling of the above exception, another exception occurred:\n",
      "\u001b[1;31mNewConnectionError\u001b[0m                        Traceback (most recent call last)",
      "File \u001b[1;32mc:\\Users\\Administrator\\AppData\\Local\\anaconda3\\Lib\\site-packages\\urllib3\\connectionpool.py:714\u001b[0m, in \u001b[0;36mHTTPConnectionPool.urlopen\u001b[1;34m(self, method, url, body, headers, retries, redirect, assert_same_host, timeout, pool_timeout, release_conn, chunked, body_pos, **response_kw)\u001b[0m\n\u001b[0;32m    713\u001b[0m \u001b[38;5;66;03m# Make the request on the httplib connection object.\u001b[39;00m\n\u001b[1;32m--> 714\u001b[0m httplib_response \u001b[38;5;241m=\u001b[39m \u001b[38;5;28mself\u001b[39m\u001b[38;5;241m.\u001b[39m_make_request(\n\u001b[0;32m    715\u001b[0m     conn,\n\u001b[0;32m    716\u001b[0m     method,\n\u001b[0;32m    717\u001b[0m     url,\n\u001b[0;32m    718\u001b[0m     timeout\u001b[38;5;241m=\u001b[39mtimeout_obj,\n\u001b[0;32m    719\u001b[0m     body\u001b[38;5;241m=\u001b[39mbody,\n\u001b[0;32m    720\u001b[0m     headers\u001b[38;5;241m=\u001b[39mheaders,\n\u001b[0;32m    721\u001b[0m     chunked\u001b[38;5;241m=\u001b[39mchunked,\n\u001b[0;32m    722\u001b[0m )\n\u001b[0;32m    724\u001b[0m \u001b[38;5;66;03m# If we're going to release the connection in ``finally:``, then\u001b[39;00m\n\u001b[0;32m    725\u001b[0m \u001b[38;5;66;03m# the response doesn't need to know about the connection. Otherwise\u001b[39;00m\n\u001b[0;32m    726\u001b[0m \u001b[38;5;66;03m# it will also try to release it and we'll have a double-release\u001b[39;00m\n\u001b[0;32m    727\u001b[0m \u001b[38;5;66;03m# mess.\u001b[39;00m\n",
      "File \u001b[1;32mc:\\Users\\Administrator\\AppData\\Local\\anaconda3\\Lib\\site-packages\\urllib3\\connectionpool.py:403\u001b[0m, in \u001b[0;36mHTTPConnectionPool._make_request\u001b[1;34m(self, conn, method, url, timeout, chunked, **httplib_request_kw)\u001b[0m\n\u001b[0;32m    402\u001b[0m \u001b[38;5;28;01mtry\u001b[39;00m:\n\u001b[1;32m--> 403\u001b[0m     \u001b[38;5;28mself\u001b[39m\u001b[38;5;241m.\u001b[39m_validate_conn(conn)\n\u001b[0;32m    404\u001b[0m \u001b[38;5;28;01mexcept\u001b[39;00m (SocketTimeout, BaseSSLError) \u001b[38;5;28;01mas\u001b[39;00m e:\n\u001b[0;32m    405\u001b[0m     \u001b[38;5;66;03m# Py2 raises this as a BaseSSLError, Py3 raises it as socket timeout.\u001b[39;00m\n",
      "File \u001b[1;32mc:\\Users\\Administrator\\AppData\\Local\\anaconda3\\Lib\\site-packages\\urllib3\\connectionpool.py:1053\u001b[0m, in \u001b[0;36mHTTPSConnectionPool._validate_conn\u001b[1;34m(self, conn)\u001b[0m\n\u001b[0;32m   1052\u001b[0m \u001b[38;5;28;01mif\u001b[39;00m \u001b[38;5;129;01mnot\u001b[39;00m \u001b[38;5;28mgetattr\u001b[39m(conn, \u001b[38;5;124m\"\u001b[39m\u001b[38;5;124msock\u001b[39m\u001b[38;5;124m\"\u001b[39m, \u001b[38;5;28;01mNone\u001b[39;00m):  \u001b[38;5;66;03m# AppEngine might not have  `.sock`\u001b[39;00m\n\u001b[1;32m-> 1053\u001b[0m     conn\u001b[38;5;241m.\u001b[39mconnect()\n\u001b[0;32m   1055\u001b[0m \u001b[38;5;28;01mif\u001b[39;00m \u001b[38;5;129;01mnot\u001b[39;00m conn\u001b[38;5;241m.\u001b[39mis_verified:\n",
      "File \u001b[1;32mc:\\Users\\Administrator\\AppData\\Local\\anaconda3\\Lib\\site-packages\\urllib3\\connection.py:363\u001b[0m, in \u001b[0;36mHTTPSConnection.connect\u001b[1;34m(self)\u001b[0m\n\u001b[0;32m    361\u001b[0m \u001b[38;5;28;01mdef\u001b[39;00m \u001b[38;5;21mconnect\u001b[39m(\u001b[38;5;28mself\u001b[39m):\n\u001b[0;32m    362\u001b[0m     \u001b[38;5;66;03m# Add certificate verification\u001b[39;00m\n\u001b[1;32m--> 363\u001b[0m     \u001b[38;5;28mself\u001b[39m\u001b[38;5;241m.\u001b[39msock \u001b[38;5;241m=\u001b[39m conn \u001b[38;5;241m=\u001b[39m \u001b[38;5;28mself\u001b[39m\u001b[38;5;241m.\u001b[39m_new_conn()\n\u001b[0;32m    364\u001b[0m     hostname \u001b[38;5;241m=\u001b[39m \u001b[38;5;28mself\u001b[39m\u001b[38;5;241m.\u001b[39mhost\n",
      "File \u001b[1;32mc:\\Users\\Administrator\\AppData\\Local\\anaconda3\\Lib\\site-packages\\urllib3\\connection.py:186\u001b[0m, in \u001b[0;36mHTTPConnection._new_conn\u001b[1;34m(self)\u001b[0m\n\u001b[0;32m    185\u001b[0m \u001b[38;5;28;01mexcept\u001b[39;00m SocketError \u001b[38;5;28;01mas\u001b[39;00m e:\n\u001b[1;32m--> 186\u001b[0m     \u001b[38;5;28;01mraise\u001b[39;00m NewConnectionError(\n\u001b[0;32m    187\u001b[0m         \u001b[38;5;28mself\u001b[39m, \u001b[38;5;124m\"\u001b[39m\u001b[38;5;124mFailed to establish a new connection: \u001b[39m\u001b[38;5;132;01m%s\u001b[39;00m\u001b[38;5;124m\"\u001b[39m \u001b[38;5;241m%\u001b[39m e\n\u001b[0;32m    188\u001b[0m     )\n\u001b[0;32m    190\u001b[0m \u001b[38;5;28;01mreturn\u001b[39;00m conn\n",
      "\u001b[1;31mNewConnectionError\u001b[0m: <urllib3.connection.HTTPSConnection object at 0x00000157FFABB990>: Failed to establish a new connection: [WinError 10065] 연결할 수 없는 호스트로 소켓 작업을 시도했습니다",
      "\nDuring handling of the above exception, another exception occurred:\n",
      "\u001b[1;31mMaxRetryError\u001b[0m                             Traceback (most recent call last)",
      "File \u001b[1;32mc:\\Users\\Administrator\\AppData\\Local\\anaconda3\\Lib\\site-packages\\requests\\adapters.py:486\u001b[0m, in \u001b[0;36mHTTPAdapter.send\u001b[1;34m(self, request, stream, timeout, verify, cert, proxies)\u001b[0m\n\u001b[0;32m    485\u001b[0m \u001b[38;5;28;01mtry\u001b[39;00m:\n\u001b[1;32m--> 486\u001b[0m     resp \u001b[38;5;241m=\u001b[39m conn\u001b[38;5;241m.\u001b[39murlopen(\n\u001b[0;32m    487\u001b[0m         method\u001b[38;5;241m=\u001b[39mrequest\u001b[38;5;241m.\u001b[39mmethod,\n\u001b[0;32m    488\u001b[0m         url\u001b[38;5;241m=\u001b[39murl,\n\u001b[0;32m    489\u001b[0m         body\u001b[38;5;241m=\u001b[39mrequest\u001b[38;5;241m.\u001b[39mbody,\n\u001b[0;32m    490\u001b[0m         headers\u001b[38;5;241m=\u001b[39mrequest\u001b[38;5;241m.\u001b[39mheaders,\n\u001b[0;32m    491\u001b[0m         redirect\u001b[38;5;241m=\u001b[39m\u001b[38;5;28;01mFalse\u001b[39;00m,\n\u001b[0;32m    492\u001b[0m         assert_same_host\u001b[38;5;241m=\u001b[39m\u001b[38;5;28;01mFalse\u001b[39;00m,\n\u001b[0;32m    493\u001b[0m         preload_content\u001b[38;5;241m=\u001b[39m\u001b[38;5;28;01mFalse\u001b[39;00m,\n\u001b[0;32m    494\u001b[0m         decode_content\u001b[38;5;241m=\u001b[39m\u001b[38;5;28;01mFalse\u001b[39;00m,\n\u001b[0;32m    495\u001b[0m         retries\u001b[38;5;241m=\u001b[39m\u001b[38;5;28mself\u001b[39m\u001b[38;5;241m.\u001b[39mmax_retries,\n\u001b[0;32m    496\u001b[0m         timeout\u001b[38;5;241m=\u001b[39mtimeout,\n\u001b[0;32m    497\u001b[0m         chunked\u001b[38;5;241m=\u001b[39mchunked,\n\u001b[0;32m    498\u001b[0m     )\n\u001b[0;32m    500\u001b[0m \u001b[38;5;28;01mexcept\u001b[39;00m (ProtocolError, \u001b[38;5;167;01mOSError\u001b[39;00m) \u001b[38;5;28;01mas\u001b[39;00m err:\n",
      "File \u001b[1;32mc:\\Users\\Administrator\\AppData\\Local\\anaconda3\\Lib\\site-packages\\urllib3\\connectionpool.py:798\u001b[0m, in \u001b[0;36mHTTPConnectionPool.urlopen\u001b[1;34m(self, method, url, body, headers, retries, redirect, assert_same_host, timeout, pool_timeout, release_conn, chunked, body_pos, **response_kw)\u001b[0m\n\u001b[0;32m    796\u001b[0m     e \u001b[38;5;241m=\u001b[39m ProtocolError(\u001b[38;5;124m\"\u001b[39m\u001b[38;5;124mConnection aborted.\u001b[39m\u001b[38;5;124m\"\u001b[39m, e)\n\u001b[1;32m--> 798\u001b[0m retries \u001b[38;5;241m=\u001b[39m retries\u001b[38;5;241m.\u001b[39mincrement(\n\u001b[0;32m    799\u001b[0m     method, url, error\u001b[38;5;241m=\u001b[39me, _pool\u001b[38;5;241m=\u001b[39m\u001b[38;5;28mself\u001b[39m, _stacktrace\u001b[38;5;241m=\u001b[39msys\u001b[38;5;241m.\u001b[39mexc_info()[\u001b[38;5;241m2\u001b[39m]\n\u001b[0;32m    800\u001b[0m )\n\u001b[0;32m    801\u001b[0m retries\u001b[38;5;241m.\u001b[39msleep()\n",
      "File \u001b[1;32mc:\\Users\\Administrator\\AppData\\Local\\anaconda3\\Lib\\site-packages\\urllib3\\util\\retry.py:592\u001b[0m, in \u001b[0;36mRetry.increment\u001b[1;34m(self, method, url, response, error, _pool, _stacktrace)\u001b[0m\n\u001b[0;32m    591\u001b[0m \u001b[38;5;28;01mif\u001b[39;00m new_retry\u001b[38;5;241m.\u001b[39mis_exhausted():\n\u001b[1;32m--> 592\u001b[0m     \u001b[38;5;28;01mraise\u001b[39;00m MaxRetryError(_pool, url, error \u001b[38;5;129;01mor\u001b[39;00m ResponseError(cause))\n\u001b[0;32m    594\u001b[0m log\u001b[38;5;241m.\u001b[39mdebug(\u001b[38;5;124m\"\u001b[39m\u001b[38;5;124mIncremented Retry for (url=\u001b[39m\u001b[38;5;124m'\u001b[39m\u001b[38;5;132;01m%s\u001b[39;00m\u001b[38;5;124m'\u001b[39m\u001b[38;5;124m): \u001b[39m\u001b[38;5;132;01m%r\u001b[39;00m\u001b[38;5;124m\"\u001b[39m, url, new_retry)\n",
      "\u001b[1;31mMaxRetryError\u001b[0m: HTTPSConnectionPool(host='openapi.koreainvestment.com', port=9443): Max retries exceeded with url: /uapi/overseas-price/v1/quotations/dailyprice?AUTH=&EXCD=NAS&SYMB=XLU&GUBN=0&BYMD=20120101&MODP=0 (Caused by NewConnectionError('<urllib3.connection.HTTPSConnection object at 0x00000157FFABB990>: Failed to establish a new connection: [WinError 10065] 연결할 수 없는 호스트로 소켓 작업을 시도했습니다'))",
      "\nDuring handling of the above exception, another exception occurred:\n",
      "\u001b[1;31mConnectionError\u001b[0m                           Traceback (most recent call last)",
      "Cell \u001b[1;32mIn[8], line 1\u001b[0m\n\u001b[1;32m----> 1\u001b[0m ret \u001b[38;5;241m=\u001b[39m searcher\u001b[38;5;241m.\u001b[39mget_historical_price(\u001b[38;5;124m\"\u001b[39m\u001b[38;5;124mNAS\u001b[39m\u001b[38;5;124m\"\u001b[39m, \u001b[38;5;124m\"\u001b[39m\u001b[38;5;124mXLU\u001b[39m\u001b[38;5;124m\"\u001b[39m, DateScale\u001b[38;5;241m.\u001b[39mDAY, \u001b[38;5;124m'\u001b[39m\u001b[38;5;124m20120101\u001b[39m\u001b[38;5;124m'\u001b[39m)\n",
      "File \u001b[1;32mD:\\python-api\\market_search.py:60\u001b[0m, in \u001b[0;36mForeignMarketEngine.get_historical_price\u001b[1;34m(self, exchanger_code, stock_code, scale, start_from)\u001b[0m\n\u001b[0;32m     51\u001b[0m headers \u001b[38;5;241m=\u001b[39m \u001b[38;5;28mself\u001b[39m\u001b[38;5;241m.\u001b[39m__format_headers(tr_id\u001b[38;5;241m=\u001b[39m\u001b[38;5;124m\"\u001b[39m\u001b[38;5;124mHHDFS76240000\u001b[39m\u001b[38;5;124m\"\u001b[39m)\n\u001b[0;32m     52\u001b[0m payload \u001b[38;5;241m=\u001b[39m {\n\u001b[0;32m     53\u001b[0m     \u001b[38;5;124m\"\u001b[39m\u001b[38;5;124mAUTH\u001b[39m\u001b[38;5;124m\"\u001b[39m : \u001b[38;5;124m\"\u001b[39m\u001b[38;5;124m\"\u001b[39m,\n\u001b[0;32m     54\u001b[0m     \u001b[38;5;124m\"\u001b[39m\u001b[38;5;124mEXCD\u001b[39m\u001b[38;5;124m\"\u001b[39m : exchanger_code,\n\u001b[1;32m   (...)\u001b[0m\n\u001b[0;32m     58\u001b[0m     \u001b[38;5;124m\"\u001b[39m\u001b[38;5;124mMODP\u001b[39m\u001b[38;5;124m\"\u001b[39m : \u001b[38;5;124m\"\u001b[39m\u001b[38;5;124m0\u001b[39m\u001b[38;5;124m\"\u001b[39m\n\u001b[0;32m     59\u001b[0m }\n\u001b[1;32m---> 60\u001b[0m response \u001b[38;5;241m=\u001b[39m requests\u001b[38;5;241m.\u001b[39mget(\n\u001b[0;32m     61\u001b[0m     url\u001b[38;5;241m=\u001b[39murl,\n\u001b[0;32m     62\u001b[0m     headers\u001b[38;5;241m=\u001b[39mheaders,\n\u001b[0;32m     63\u001b[0m     params\u001b[38;5;241m=\u001b[39mpayload\n\u001b[0;32m     64\u001b[0m )\n\u001b[0;32m     66\u001b[0m \u001b[38;5;66;03m# logger.info(response.json())\u001b[39;00m\n\u001b[0;32m     67\u001b[0m \u001b[38;5;28;01mreturn\u001b[39;00m response\u001b[38;5;241m.\u001b[39mjson()\n",
      "File \u001b[1;32mc:\\Users\\Administrator\\AppData\\Local\\anaconda3\\Lib\\site-packages\\requests\\api.py:73\u001b[0m, in \u001b[0;36mget\u001b[1;34m(url, params, **kwargs)\u001b[0m\n\u001b[0;32m     62\u001b[0m \u001b[38;5;28;01mdef\u001b[39;00m \u001b[38;5;21mget\u001b[39m(url, params\u001b[38;5;241m=\u001b[39m\u001b[38;5;28;01mNone\u001b[39;00m, \u001b[38;5;241m*\u001b[39m\u001b[38;5;241m*\u001b[39mkwargs):\n\u001b[0;32m     63\u001b[0m \u001b[38;5;250m    \u001b[39m\u001b[38;5;124mr\u001b[39m\u001b[38;5;124;03m\"\"\"Sends a GET request.\u001b[39;00m\n\u001b[0;32m     64\u001b[0m \n\u001b[0;32m     65\u001b[0m \u001b[38;5;124;03m    :param url: URL for the new :class:`Request` object.\u001b[39;00m\n\u001b[1;32m   (...)\u001b[0m\n\u001b[0;32m     70\u001b[0m \u001b[38;5;124;03m    :rtype: requests.Response\u001b[39;00m\n\u001b[0;32m     71\u001b[0m \u001b[38;5;124;03m    \"\"\"\u001b[39;00m\n\u001b[1;32m---> 73\u001b[0m     \u001b[38;5;28;01mreturn\u001b[39;00m request(\u001b[38;5;124m\"\u001b[39m\u001b[38;5;124mget\u001b[39m\u001b[38;5;124m\"\u001b[39m, url, params\u001b[38;5;241m=\u001b[39mparams, \u001b[38;5;241m*\u001b[39m\u001b[38;5;241m*\u001b[39mkwargs)\n",
      "File \u001b[1;32mc:\\Users\\Administrator\\AppData\\Local\\anaconda3\\Lib\\site-packages\\requests\\api.py:59\u001b[0m, in \u001b[0;36mrequest\u001b[1;34m(method, url, **kwargs)\u001b[0m\n\u001b[0;32m     55\u001b[0m \u001b[38;5;66;03m# By using the 'with' statement we are sure the session is closed, thus we\u001b[39;00m\n\u001b[0;32m     56\u001b[0m \u001b[38;5;66;03m# avoid leaving sockets open which can trigger a ResourceWarning in some\u001b[39;00m\n\u001b[0;32m     57\u001b[0m \u001b[38;5;66;03m# cases, and look like a memory leak in others.\u001b[39;00m\n\u001b[0;32m     58\u001b[0m \u001b[38;5;28;01mwith\u001b[39;00m sessions\u001b[38;5;241m.\u001b[39mSession() \u001b[38;5;28;01mas\u001b[39;00m session:\n\u001b[1;32m---> 59\u001b[0m     \u001b[38;5;28;01mreturn\u001b[39;00m session\u001b[38;5;241m.\u001b[39mrequest(method\u001b[38;5;241m=\u001b[39mmethod, url\u001b[38;5;241m=\u001b[39murl, \u001b[38;5;241m*\u001b[39m\u001b[38;5;241m*\u001b[39mkwargs)\n",
      "File \u001b[1;32mc:\\Users\\Administrator\\AppData\\Local\\anaconda3\\Lib\\site-packages\\requests\\sessions.py:589\u001b[0m, in \u001b[0;36mSession.request\u001b[1;34m(self, method, url, params, data, headers, cookies, files, auth, timeout, allow_redirects, proxies, hooks, stream, verify, cert, json)\u001b[0m\n\u001b[0;32m    584\u001b[0m send_kwargs \u001b[38;5;241m=\u001b[39m {\n\u001b[0;32m    585\u001b[0m     \u001b[38;5;124m\"\u001b[39m\u001b[38;5;124mtimeout\u001b[39m\u001b[38;5;124m\"\u001b[39m: timeout,\n\u001b[0;32m    586\u001b[0m     \u001b[38;5;124m\"\u001b[39m\u001b[38;5;124mallow_redirects\u001b[39m\u001b[38;5;124m\"\u001b[39m: allow_redirects,\n\u001b[0;32m    587\u001b[0m }\n\u001b[0;32m    588\u001b[0m send_kwargs\u001b[38;5;241m.\u001b[39mupdate(settings)\n\u001b[1;32m--> 589\u001b[0m resp \u001b[38;5;241m=\u001b[39m \u001b[38;5;28mself\u001b[39m\u001b[38;5;241m.\u001b[39msend(prep, \u001b[38;5;241m*\u001b[39m\u001b[38;5;241m*\u001b[39msend_kwargs)\n\u001b[0;32m    591\u001b[0m \u001b[38;5;28;01mreturn\u001b[39;00m resp\n",
      "File \u001b[1;32mc:\\Users\\Administrator\\AppData\\Local\\anaconda3\\Lib\\site-packages\\requests\\sessions.py:703\u001b[0m, in \u001b[0;36mSession.send\u001b[1;34m(self, request, **kwargs)\u001b[0m\n\u001b[0;32m    700\u001b[0m start \u001b[38;5;241m=\u001b[39m preferred_clock()\n\u001b[0;32m    702\u001b[0m \u001b[38;5;66;03m# Send the request\u001b[39;00m\n\u001b[1;32m--> 703\u001b[0m r \u001b[38;5;241m=\u001b[39m adapter\u001b[38;5;241m.\u001b[39msend(request, \u001b[38;5;241m*\u001b[39m\u001b[38;5;241m*\u001b[39mkwargs)\n\u001b[0;32m    705\u001b[0m \u001b[38;5;66;03m# Total elapsed time of the request (approximately)\u001b[39;00m\n\u001b[0;32m    706\u001b[0m elapsed \u001b[38;5;241m=\u001b[39m preferred_clock() \u001b[38;5;241m-\u001b[39m start\n",
      "File \u001b[1;32mc:\\Users\\Administrator\\AppData\\Local\\anaconda3\\Lib\\site-packages\\requests\\adapters.py:519\u001b[0m, in \u001b[0;36mHTTPAdapter.send\u001b[1;34m(self, request, stream, timeout, verify, cert, proxies)\u001b[0m\n\u001b[0;32m    515\u001b[0m     \u001b[38;5;28;01mif\u001b[39;00m \u001b[38;5;28misinstance\u001b[39m(e\u001b[38;5;241m.\u001b[39mreason, _SSLError):\n\u001b[0;32m    516\u001b[0m         \u001b[38;5;66;03m# This branch is for urllib3 v1.22 and later.\u001b[39;00m\n\u001b[0;32m    517\u001b[0m         \u001b[38;5;28;01mraise\u001b[39;00m SSLError(e, request\u001b[38;5;241m=\u001b[39mrequest)\n\u001b[1;32m--> 519\u001b[0m     \u001b[38;5;28;01mraise\u001b[39;00m \u001b[38;5;167;01mConnectionError\u001b[39;00m(e, request\u001b[38;5;241m=\u001b[39mrequest)\n\u001b[0;32m    521\u001b[0m \u001b[38;5;28;01mexcept\u001b[39;00m ClosedPoolError \u001b[38;5;28;01mas\u001b[39;00m e:\n\u001b[0;32m    522\u001b[0m     \u001b[38;5;28;01mraise\u001b[39;00m \u001b[38;5;167;01mConnectionError\u001b[39;00m(e, request\u001b[38;5;241m=\u001b[39mrequest)\n",
      "\u001b[1;31mConnectionError\u001b[0m: HTTPSConnectionPool(host='openapi.koreainvestment.com', port=9443): Max retries exceeded with url: /uapi/overseas-price/v1/quotations/dailyprice?AUTH=&EXCD=NAS&SYMB=XLU&GUBN=0&BYMD=20120101&MODP=0 (Caused by NewConnectionError('<urllib3.connection.HTTPSConnection object at 0x00000157FFABB990>: Failed to establish a new connection: [WinError 10065] 연결할 수 없는 호스트로 소켓 작업을 시도했습니다'))"
     ]
    }
   ],
   "source": [
    "ret = searcher.get_historical_price(\"NAS\", \"XLU\", DateScale.DAY, '20120101')"
   ]
  },
  {
   "cell_type": "code",
   "execution_count": null,
   "metadata": {},
   "outputs": [
    {
     "data": {
      "text/plain": [
       "dict_keys(['output1', 'output2', 'rt_cd', 'msg_cd', 'msg1'])"
      ]
     },
     "execution_count": 19,
     "metadata": {},
     "output_type": "execute_result"
    }
   ],
   "source": [
    "ret.keys()"
   ]
  },
  {
   "cell_type": "code",
   "execution_count": 23,
   "metadata": {},
   "outputs": [
    {
     "data": {
      "text/html": [
       "<div>\n",
       "<style scoped>\n",
       "    .dataframe tbody tr th:only-of-type {\n",
       "        vertical-align: middle;\n",
       "    }\n",
       "\n",
       "    .dataframe tbody tr th {\n",
       "        vertical-align: top;\n",
       "    }\n",
       "\n",
       "    .dataframe thead th {\n",
       "        text-align: right;\n",
       "    }\n",
       "</style>\n",
       "<table border=\"1\" class=\"dataframe\">\n",
       "  <thead>\n",
       "    <tr style=\"text-align: right;\">\n",
       "      <th></th>\n",
       "      <th>xymd</th>\n",
       "      <th>clos</th>\n",
       "      <th>sign</th>\n",
       "      <th>diff</th>\n",
       "      <th>rate</th>\n",
       "      <th>open</th>\n",
       "      <th>high</th>\n",
       "      <th>low</th>\n",
       "      <th>tvol</th>\n",
       "      <th>tamt</th>\n",
       "      <th>pbid</th>\n",
       "      <th>vbid</th>\n",
       "      <th>pask</th>\n",
       "      <th>vask</th>\n",
       "    </tr>\n",
       "  </thead>\n",
       "  <tbody>\n",
       "    <tr>\n",
       "      <th>0</th>\n",
       "      <td>20111230</td>\n",
       "      <td>35.3211</td>\n",
       "      <td>5</td>\n",
       "      <td>0.2553</td>\n",
       "      <td>-0.72</td>\n",
       "      <td>35.5960</td>\n",
       "      <td>35.6058</td>\n",
       "      <td>35.3015</td>\n",
       "      <td>4092732</td>\n",
       "      <td>144559796</td>\n",
       "      <td>37.1200</td>\n",
       "      <td>0</td>\n",
       "      <td>35.9800</td>\n",
       "      <td>0</td>\n",
       "    </tr>\n",
       "    <tr>\n",
       "      <th>1</th>\n",
       "      <td>20111229</td>\n",
       "      <td>35.5764</td>\n",
       "      <td>2</td>\n",
       "      <td>0.2749</td>\n",
       "      <td>+0.78</td>\n",
       "      <td>35.3604</td>\n",
       "      <td>35.5764</td>\n",
       "      <td>35.3309</td>\n",
       "      <td>3962420</td>\n",
       "      <td>140968639</td>\n",
       "      <td>36.2500</td>\n",
       "      <td>0</td>\n",
       "      <td>36.1000</td>\n",
       "      <td>0</td>\n",
       "    </tr>\n",
       "    <tr>\n",
       "      <th>2</th>\n",
       "      <td>20111228</td>\n",
       "      <td>35.3015</td>\n",
       "      <td>5</td>\n",
       "      <td>0.1276</td>\n",
       "      <td>-0.36</td>\n",
       "      <td>35.5665</td>\n",
       "      <td>35.5665</td>\n",
       "      <td>35.2426</td>\n",
       "      <td>3152575</td>\n",
       "      <td>111290626</td>\n",
       "      <td>36.1000</td>\n",
       "      <td>0</td>\n",
       "      <td>35.9000</td>\n",
       "      <td>0</td>\n",
       "    </tr>\n",
       "    <tr>\n",
       "      <th>3</th>\n",
       "      <td>20111227</td>\n",
       "      <td>35.4291</td>\n",
       "      <td>2</td>\n",
       "      <td>0.2847</td>\n",
       "      <td>+0.81</td>\n",
       "      <td>35.1739</td>\n",
       "      <td>35.4978</td>\n",
       "      <td>35.1248</td>\n",
       "      <td>3243691</td>\n",
       "      <td>114921053</td>\n",
       "      <td>36.1200</td>\n",
       "      <td>0</td>\n",
       "      <td>35.9500</td>\n",
       "      <td>0</td>\n",
       "    </tr>\n",
       "    <tr>\n",
       "      <th>4</th>\n",
       "      <td>20111223</td>\n",
       "      <td>35.1444</td>\n",
       "      <td>2</td>\n",
       "      <td>0.2258</td>\n",
       "      <td>+0.65</td>\n",
       "      <td>35.0364</td>\n",
       "      <td>35.3015</td>\n",
       "      <td>35.0266</td>\n",
       "      <td>3219092</td>\n",
       "      <td>113133057</td>\n",
       "      <td>35.9900</td>\n",
       "      <td>0</td>\n",
       "      <td>35.6600</td>\n",
       "      <td>0</td>\n",
       "    </tr>\n",
       "    <tr>\n",
       "      <th>...</th>\n",
       "      <td>...</td>\n",
       "      <td>...</td>\n",
       "      <td>...</td>\n",
       "      <td>...</td>\n",
       "      <td>...</td>\n",
       "      <td>...</td>\n",
       "      <td>...</td>\n",
       "      <td>...</td>\n",
       "      <td>...</td>\n",
       "      <td>...</td>\n",
       "      <td>...</td>\n",
       "      <td>...</td>\n",
       "      <td>...</td>\n",
       "      <td>...</td>\n",
       "    </tr>\n",
       "    <tr>\n",
       "      <th>95</th>\n",
       "      <td>20110816</td>\n",
       "      <td>31.4629</td>\n",
       "      <td>5</td>\n",
       "      <td>0.0385</td>\n",
       "      <td>-0.12</td>\n",
       "      <td>31.2611</td>\n",
       "      <td>31.5590</td>\n",
       "      <td>31.0978</td>\n",
       "      <td>11301900</td>\n",
       "      <td>355590550</td>\n",
       "      <td>32.8500</td>\n",
       "      <td>0</td>\n",
       "      <td>32.5600</td>\n",
       "      <td>0</td>\n",
       "    </tr>\n",
       "    <tr>\n",
       "      <th>96</th>\n",
       "      <td>20110815</td>\n",
       "      <td>31.5014</td>\n",
       "      <td>2</td>\n",
       "      <td>1.0379</td>\n",
       "      <td>+3.41</td>\n",
       "      <td>30.7230</td>\n",
       "      <td>31.5686</td>\n",
       "      <td>30.6654</td>\n",
       "      <td>27836638</td>\n",
       "      <td>876893068</td>\n",
       "      <td>32.8500</td>\n",
       "      <td>0</td>\n",
       "      <td>32.7500</td>\n",
       "      <td>0</td>\n",
       "    </tr>\n",
       "    <tr>\n",
       "      <th>97</th>\n",
       "      <td>20110812</td>\n",
       "      <td>30.4635</td>\n",
       "      <td>5</td>\n",
       "      <td>0.1826</td>\n",
       "      <td>-0.60</td>\n",
       "      <td>30.8575</td>\n",
       "      <td>31.0113</td>\n",
       "      <td>30.3194</td>\n",
       "      <td>9703757</td>\n",
       "      <td>295610401</td>\n",
       "      <td>31.8400</td>\n",
       "      <td>0</td>\n",
       "      <td>31.6200</td>\n",
       "      <td>0</td>\n",
       "    </tr>\n",
       "    <tr>\n",
       "      <th>98</th>\n",
       "      <td>20110811</td>\n",
       "      <td>30.6461</td>\n",
       "      <td>2</td>\n",
       "      <td>1.2397</td>\n",
       "      <td>+4.22</td>\n",
       "      <td>29.4929</td>\n",
       "      <td>30.9536</td>\n",
       "      <td>29.4929</td>\n",
       "      <td>17466472</td>\n",
       "      <td>535279248</td>\n",
       "      <td>31.9800</td>\n",
       "      <td>0</td>\n",
       "      <td>31.6400</td>\n",
       "      <td>0</td>\n",
       "    </tr>\n",
       "    <tr>\n",
       "      <th>99</th>\n",
       "      <td>20110810</td>\n",
       "      <td>29.4064</td>\n",
       "      <td>5</td>\n",
       "      <td>0.5670</td>\n",
       "      <td>-1.89</td>\n",
       "      <td>29.5986</td>\n",
       "      <td>30.1752</td>\n",
       "      <td>29.2911</td>\n",
       "      <td>16835606</td>\n",
       "      <td>495074564</td>\n",
       "      <td>31.1400</td>\n",
       "      <td>0</td>\n",
       "      <td>30.5100</td>\n",
       "      <td>0</td>\n",
       "    </tr>\n",
       "  </tbody>\n",
       "</table>\n",
       "<p>100 rows × 14 columns</p>\n",
       "</div>"
      ],
      "text/plain": [
       "        xymd     clos sign    diff   rate     open     high      low  \\\n",
       "0   20111230  35.3211    5  0.2553  -0.72  35.5960  35.6058  35.3015   \n",
       "1   20111229  35.5764    2  0.2749  +0.78  35.3604  35.5764  35.3309   \n",
       "2   20111228  35.3015    5  0.1276  -0.36  35.5665  35.5665  35.2426   \n",
       "3   20111227  35.4291    2  0.2847  +0.81  35.1739  35.4978  35.1248   \n",
       "4   20111223  35.1444    2  0.2258  +0.65  35.0364  35.3015  35.0266   \n",
       "..       ...      ...  ...     ...    ...      ...      ...      ...   \n",
       "95  20110816  31.4629    5  0.0385  -0.12  31.2611  31.5590  31.0978   \n",
       "96  20110815  31.5014    2  1.0379  +3.41  30.7230  31.5686  30.6654   \n",
       "97  20110812  30.4635    5  0.1826  -0.60  30.8575  31.0113  30.3194   \n",
       "98  20110811  30.6461    2  1.2397  +4.22  29.4929  30.9536  29.4929   \n",
       "99  20110810  29.4064    5  0.5670  -1.89  29.5986  30.1752  29.2911   \n",
       "\n",
       "        tvol       tamt     pbid vbid     pask vask  \n",
       "0    4092732  144559796  37.1200    0  35.9800    0  \n",
       "1    3962420  140968639  36.2500    0  36.1000    0  \n",
       "2    3152575  111290626  36.1000    0  35.9000    0  \n",
       "3    3243691  114921053  36.1200    0  35.9500    0  \n",
       "4    3219092  113133057  35.9900    0  35.6600    0  \n",
       "..       ...        ...      ...  ...      ...  ...  \n",
       "95  11301900  355590550  32.8500    0  32.5600    0  \n",
       "96  27836638  876893068  32.8500    0  32.7500    0  \n",
       "97   9703757  295610401  31.8400    0  31.6200    0  \n",
       "98  17466472  535279248  31.9800    0  31.6400    0  \n",
       "99  16835606  495074564  31.1400    0  30.5100    0  \n",
       "\n",
       "[100 rows x 14 columns]"
      ]
     },
     "execution_count": 23,
     "metadata": {},
     "output_type": "execute_result"
    }
   ],
   "source": [
    "df = pd.DataFrame(ret['output2'])\n",
    "df"
   ]
  },
  {
   "cell_type": "code",
   "execution_count": 22,
   "metadata": {},
   "outputs": [],
   "source": [
    "import matplotlib.pyplot as plt"
   ]
  },
  {
   "cell_type": "code",
   "execution_count": 37,
   "metadata": {},
   "outputs": [
    {
     "data": {
      "text/plain": [
       "[<matplotlib.lines.Line2D at 0x2194e2dfe90>]"
      ]
     },
     "execution_count": 37,
     "metadata": {},
     "output_type": "execute_result"
    },
    {
     "data": {
      "image/png": "[encoded data removed]",
      "text/plain": [
       "<Figure size 1000x600 with 1 Axes>"
      ]
     },
     "metadata": {},
     "output_type": "display_data"
    }
   ],
   "source": [
    "float_arry = (df['clos'].values).astype('float64')\n",
    "\n",
    "plt.figure(figsize=(10,6))\n",
    "plt.plot(float_arry)"
   ]
  },
  {
   "cell_type": "code",
   "execution_count": 29,
   "metadata": {},
   "outputs": [
    {
     "data": {
      "text/plain": [
       "array([35.3211, 35.5764, 35.3015, 35.4291, 35.1444, 34.9186, 34.8794,\n",
       "       34.3689, 33.6523, 33.9075, 34.0075, 33.5998, 33.8134, 33.6872,\n",
       "       33.9784, 33.5513, 34.0464, 34.0949, 33.9978, 33.7357, 34.0852,\n",
       "       34.1823, 33.2212, 32.862 , 32.4542, 32.2892, 32.8037, 33.2115,\n",
       "       33.6289, 33.3959, 33.5707, 33.9784, 33.9202, 34.3279, 33.8425,\n",
       "       33.6192, 34.3667, 34.1435, 33.959 , 34.1143, 33.7066, 33.1241,\n",
       "       33.8328, 33.9881, 34.2697, 33.4736, 33.3377, 33.7163, 33.8619,\n",
       "       33.2989, 33.1144, 33.0853, 32.8523, 32.9882, 32.6775, 32.6775,\n",
       "       32.7552, 33.0562, 32.4251, 32.2892, 31.7261, 31.7067, 31.8621,\n",
       "       32.6387, 33.0076, 32.4834, 32.8134, 32.697 , 32.4348, 32.1145,\n",
       "       32.6678, 33.2794, 32.8037, 32.9882, 32.6161, 32.2125, 31.9915,\n",
       "       31.7801, 31.5206, 32.1741, 32.1933, 31.8377, 31.9915, 32.3567,\n",
       "       32.5681, 32.3567, 32.3422, 31.7128, 31.7608, 32.2894, 31.6071,\n",
       "       31.0497, 31.1266, 31.3188, 31.6936, 31.4629, 31.5014, 30.4635,\n",
       "       30.6461, 29.4064])"
      ]
     },
     "execution_count": 29,
     "metadata": {},
     "output_type": "execute_result"
    }
   ],
   "source": [
    "(df['clos'].values).astype('float64')"
   ]
  },
  {
   "cell_type": "code",
   "execution_count": null,
   "metadata": {},
   "outputs": [],
   "source": []
  }
 ],
 "metadata": {
  "kernelspec": {
   "display_name": "api-client",
   "language": "python",
   "name": "python3"
  },
  "language_info": {
   "codemirror_mode": {
    "name": "ipython",
    "version": 3
   },
   "file_extension": ".py",
   "mimetype": "text/x-python",
   "name": "python",
   "nbconvert_exporter": "python",
   "pygments_lexer": "ipython3",
   "version": "3.11.5"
  }
 },
 "nbformat": 4,
 "nbformat_minor": 2
}
